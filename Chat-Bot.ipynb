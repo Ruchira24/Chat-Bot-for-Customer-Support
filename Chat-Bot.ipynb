{
 "cells": [
  {
   "cell_type": "code",
   "execution_count": 1,
   "metadata": {
    "colab": {
     "base_uri": "https://localhost:8080/"
    },
    "executionInfo": {
     "elapsed": 21325,
     "status": "ok",
     "timestamp": 1624190375548,
     "user": {
      "displayName": "Ruchira S Dwivedi",
      "photoUrl": "",
      "userId": "08004570390284030604"
     },
     "user_tz": -330
    },
    "id": "0zvYi4NCRZ0g",
    "outputId": "726b8948-c0bb-49a5-d8df-7b729b0034ed"
   },
   "outputs": [
    {
     "name": "stdout",
     "output_type": "stream",
     "text": [
      "Mounted at /content/drive\n"
     ]
    }
   ],
   "source": [
    "from google.colab import drive\n",
    "drive.mount('/content/drive')"
   ]
  },
  {
   "cell_type": "markdown",
   "metadata": {
    "id": "Yg0710WWMeoQ"
   },
   "source": [
    "## **Basic Rule Based Chatbot using Chat and Reflections Library**\n"
   ]
  },
  {
   "cell_type": "code",
   "execution_count": 2,
   "metadata": {
    "executionInfo": {
     "elapsed": 1685,
     "status": "ok",
     "timestamp": 1624190387747,
     "user": {
      "displayName": "Ruchira S Dwivedi",
      "photoUrl": "",
      "userId": "08004570390284030604"
     },
     "user_tz": -330
    },
    "id": "ya7fn6-vRZ92"
   },
   "outputs": [],
   "source": [
    "import nltk\n",
    "from nltk.chat.util import Chat, reflections"
   ]
  },
  {
   "cell_type": "code",
   "execution_count": 3,
   "metadata": {
    "colab": {
     "base_uri": "https://localhost:8080/"
    },
    "executionInfo": {
     "elapsed": 428,
     "status": "ok",
     "timestamp": 1624190389768,
     "user": {
      "displayName": "Ruchira S Dwivedi",
      "photoUrl": "",
      "userId": "08004570390284030604"
     },
     "user_tz": -330
    },
    "id": "rj0QmVrxJk6x",
    "outputId": "f229495d-ff77-4858-bbb9-fc367139f862"
   },
   "outputs": [
    {
     "data": {
      "text/plain": [
       "{'i': 'you',\n",
       " 'i am': 'you are',\n",
       " 'i was': 'you were',\n",
       " \"i'd\": 'you would',\n",
       " \"i'll\": 'you will',\n",
       " \"i'm\": 'you are',\n",
       " \"i've\": 'you have',\n",
       " 'me': 'you',\n",
       " 'my': 'your',\n",
       " 'you': 'me',\n",
       " 'you are': 'I am',\n",
       " 'you were': 'I was',\n",
       " \"you'll\": 'I will',\n",
       " \"you've\": 'I have',\n",
       " 'your': 'my',\n",
       " 'yours': 'mine'}"
      ]
     },
     "execution_count": 3,
     "metadata": {
      "tags": []
     },
     "output_type": "execute_result"
    }
   ],
   "source": [
    "reflections"
   ]
  },
  {
   "cell_type": "code",
   "execution_count": null,
   "metadata": {
    "id": "YgeajbH-SyZt"
   },
   "outputs": [],
   "source": [
    "set_pairs = [\n",
    "    [\n",
    "        r\"my name is (.*)\",\n",
    "        [\"Hello %1, How are you doing today ?\",]\n",
    "    ],\n",
    "    [\n",
    "        r\"hi|hey|hello\",\n",
    "        [\"Hello\", \"Hey there\",]\n",
    "    ], \n",
    "    [\n",
    "        r\"what is your name?\",\n",
    "        [\"You can call me a chatbot ?\",]\n",
    "    ],\n",
    "    [\n",
    "        r\"how are you ?\",\n",
    "        [\"I am fine, thank you! How can i help you?\",]\n",
    "    ],\n",
    "    [\n",
    "        r\"I am fine, thank you\",\n",
    "        [\"great to hear that, how can i help you?\",]\n",
    "    ],\n",
    "    [\n",
    "        r\"how can i help you? \",\n",
    "        [\"i am looking for online guides and courses to learn data science, can you suggest?\", \"i am looking for data science training platforms\",]\n",
    "    ],\n",
    "    [\n",
    "        r\"i'm (.*) doing good\",\n",
    "        [\"That's great to hear\",\"How can i help you?:)\",]\n",
    "    ],\n",
    "    [\n",
    "        r\"i am looking for online guides and courses to learn data science, can you suggest?\",\n",
    "        [\"Pluralsight is a great option to learn data science. You can check their website\",]\n",
    "    ],\n",
    "    [\n",
    "        r\"thanks for the suggestion. do they have great authors and instructors?\",\n",
    "        [\"Yes, they have the world class best authors, that is their strength;)\",]\n",
    "    ],\n",
    "    [\n",
    "        r\"(.*) thank you so much, that was helpful\",\n",
    "        [\"I am happy to help\", \"No problem, you're welcome\",]\n",
    "    ],\n",
    "    [\n",
    "        r\"quit\",\n",
    "    [\"Bye, take care. See you soon :) \",\"It was nice talking to you. See you soon :)\"]\n",
    "],\n",
    "]"
   ]
  },
  {
   "cell_type": "code",
   "execution_count": null,
   "metadata": {
    "colab": {
     "base_uri": "https://localhost:8080/"
    },
    "executionInfo": {
     "elapsed": 373,
     "status": "ok",
     "timestamp": 1624120916942,
     "user": {
      "displayName": "Ruchira S Dwivedi",
      "photoUrl": "",
      "userId": "08004570390284030604"
     },
     "user_tz": -330
    },
    "id": "kKG80w8PS9Q0",
    "outputId": "40f43ab6-2031-4120-d854-88d122bb616d"
   },
   "outputs": [
    {
     "name": "stdout",
     "output_type": "stream",
     "text": [
      "Hi, I'm the chatbot you built\n"
     ]
    }
   ],
   "source": [
    "def chatbot():\n",
    "        print(\"Hi, I'm the chatbot you built\") \n",
    "\n",
    "chatbot()"
   ]
  },
  {
   "cell_type": "code",
   "execution_count": null,
   "metadata": {
    "colab": {
     "base_uri": "https://localhost:8080/"
    },
    "executionInfo": {
     "elapsed": 508,
     "status": "ok",
     "timestamp": 1624121298431,
     "user": {
      "displayName": "Ruchira S Dwivedi",
      "photoUrl": "",
      "userId": "08004570390284030604"
     },
     "user_tz": -330
    },
    "id": "8Ur6F6pMTBfk",
    "outputId": "be0a37bc-ecec-4c4b-f605-1a8ec7227765"
   },
   "outputs": [
    {
     "name": "stdout",
     "output_type": "stream",
     "text": [
      "<nltk.chat.util.Chat object at 0x7fee6054ff10>\n"
     ]
    }
   ],
   "source": [
    "chat = Chat(set_pairs, reflections)\n",
    "print(chat)"
   ]
  },
  {
   "cell_type": "code",
   "execution_count": null,
   "metadata": {
    "colab": {
     "base_uri": "https://localhost:8080/"
    },
    "executionInfo": {
     "elapsed": 49000,
     "status": "ok",
     "timestamp": 1624121349739,
     "user": {
      "displayName": "Ruchira S Dwivedi",
      "photoUrl": "",
      "userId": "08004570390284030604"
     },
     "user_tz": -330
    },
    "id": "7yJkfofOTBmu",
    "outputId": "f40bae39-977c-4f82-cd96-b8b2abeb7b05"
   },
   "outputs": [
    {
     "name": "stdout",
     "output_type": "stream",
     "text": [
      ">Hi\n",
      "Hey there\n",
      ">How are you?\n",
      "I am fine, thank you! How can i help you?\n",
      ">I am looking for online guides\n",
      "None\n",
      ">quit\n",
      "It was nice talking to you. See you soon :)\n",
      "Hi, I'm the chatbot you built\n"
     ]
    }
   ],
   "source": [
    "chat.converse()\n",
    "if __name__ == \"__main__\":\n",
    "    chatbot()"
   ]
  },
  {
   "cell_type": "markdown",
   "metadata": {
    "id": "BX-bVCIfWsJp"
   },
   "source": [
    "## **Customer Support Chatbot using Neural Networks and NLTK**"
   ]
  },
  {
   "cell_type": "code",
   "execution_count": 4,
   "metadata": {
    "colab": {
     "base_uri": "https://localhost:8080/"
    },
    "executionInfo": {
     "elapsed": 2006,
     "status": "ok",
     "timestamp": 1624190423471,
     "user": {
      "displayName": "Ruchira S Dwivedi",
      "photoUrl": "",
      "userId": "08004570390284030604"
     },
     "user_tz": -330
    },
    "id": "ZbnsxhHhW9j9",
    "outputId": "5f143c81-eb88-4f22-9b97-edbb8241909e"
   },
   "outputs": [
    {
     "name": "stdout",
     "output_type": "stream",
     "text": [
      "[nltk_data] Downloading package punkt to /root/nltk_data...\n",
      "[nltk_data]   Unzipping tokenizers/punkt.zip.\n"
     ]
    }
   ],
   "source": [
    "import nltk\n",
    "nltk.download('punkt')\n",
    "from nltk.stem.lancaster import LancasterStemmer\n",
    "stemmer = LancasterStemmer()\n",
    "\n",
    "import numpy\n",
    "#import tflearn\n",
    "import tensorflow\n",
    "import random"
   ]
  },
  {
   "cell_type": "markdown",
   "metadata": {
    "id": "FIhcyErgalQz"
   },
   "source": [
    "## **Loading given json data file**"
   ]
  },
  {
   "cell_type": "code",
   "execution_count": 133,
   "metadata": {
    "executionInfo": {
     "elapsed": 495,
     "status": "ok",
     "timestamp": 1624191995626,
     "user": {
      "displayName": "Ruchira S Dwivedi",
      "photoUrl": "",
      "userId": "08004570390284030604"
     },
     "user_tz": -330
    },
    "id": "_3glmMvxTjqq"
   },
   "outputs": [],
   "source": [
    "import json\n",
    "\n",
    "with open('/content/drive/MyDrive/Mod 10- NLP/Project-1/PART 2/GL Bot.json') as file:\n",
    "  data=json.load(file)\n",
    " "
   ]
  },
  {
   "cell_type": "code",
   "execution_count": 23,
   "metadata": {
    "colab": {
     "base_uri": "https://localhost:8080/"
    },
    "executionInfo": {
     "elapsed": 478,
     "status": "ok",
     "timestamp": 1624191013485,
     "user": {
      "displayName": "Ruchira S Dwivedi",
      "photoUrl": "",
      "userId": "08004570390284030604"
     },
     "user_tz": -330
    },
    "id": "7SlnBpJDLVwz",
    "outputId": "3c0c5ed9-267f-4a78-a71a-967bb69c66fa"
   },
   "outputs": [
    {
     "name": "stdout",
     "output_type": "stream",
     "text": [
      "{'intents': [{'tag': 'Intro', 'patterns': ['hi', 'how are you', 'is anyone there', 'hello', 'whats up', 'hey', 'yo', 'listen', 'please help me', 'i am learner from', 'i belong to', 'aiml batch', 'aifl batch', 'i am from', 'my pm is', 'blended', 'online', 'i am from', 'hey ya', 'talking to you for first time'], 'responses': ['Hello! how can i help you ?'], 'context_set': ''}, {'tag': 'Exit', 'patterns': ['thank you', 'thanks', 'cya', 'see you', 'later', 'see you later', 'goodbye', 'i am leaving', 'have a Good day', 'you helped me', 'thanks a lot', 'thanks a ton', 'you are the best', 'great help', 'too good', 'you are a good learning buddy'], 'responses': ['I hope I was able to assist you, Good Bye'], 'context_set': ''}, {'tag': 'Olympus', 'patterns': ['olympus', 'explain me how olympus works', 'I am not able to understand olympus', 'olympus window not working', 'no access to olympus', 'unable to see link in olympus', 'no link visible on olympus', 'whom to contact for olympus', 'lot of problem with olympus', 'olypus is not a good tool', 'lot of problems with olympus', 'how to use olympus', 'teach me olympus'], 'responses': ['Link: Olympus wiki'], 'context_set': ''}, {'tag': 'SL', 'patterns': ['i am not able to understand svm', 'explain me how machine learning works', 'i am not able to understand naive bayes', 'i am not able to understand logistic regression', 'i am not able to understand ensemble techb=niques', 'i am not able to understand knn', 'i am not able to understand knn imputer', 'i am not able to understand cross validation', 'i am not able to understand boosting', 'i am not able to understand random forest', 'i am not able to understand ada boosting', 'i am not able to understand gradient boosting', 'machine learning', 'ML', 'SL', 'supervised learning', 'knn', 'logistic regression', 'regression', 'classification', 'naive bayes', 'nb', 'ensemble techniques', 'bagging', 'boosting', 'ada boosting', 'ada', 'gradient boosting', 'hyper parameters'], 'responses': ['Link: Machine Learning wiki '], 'context_set': ''}, {'tag': 'NN', 'patterns': ['what is deep learning', 'unable to understand deep learning', 'explain me how deep learning works', 'i am not able to understand deep learning', 'not able to understand neural nets', 'very diffult to understand neural nets', 'unable to understand neural nets', 'ann', 'artificial intelligence', 'artificial neural networks', 'weights', 'activation function', 'hidden layers', 'softmax', 'sigmoid', 'relu', 'otimizer', 'forward propagation', 'backward propagation', 'epochs', 'epoch', 'what is an epoch', 'adam', 'sgd'], 'responses': ['Link: Neural Nets wiki'], 'context_set': ''}, {'tag': 'Bot', 'patterns': ['what is your name', 'who are you', 'name please', 'when are your hours of opertions', 'what are your working hours', 'hours of operation', 'working hours', 'hours'], 'responses': ['I am your virtual learning assistant'], 'context_set': ''}, {'tag': 'Profane', 'patterns': ['what the hell', 'bloody stupid bot', 'do you think you are very smart', 'screw you', 'i hate you', 'you are stupid', 'jerk', 'you are a joke', 'useless piece of shit'], 'responses': ['Please use respectful words'], 'context_set': ''}, {'tag': 'Ticket', 'patterns': ['my problem is not solved', 'you did not help me', 'not a good solution', 'bad solution', 'not good solution', 'no help', 'wasted my time', 'useless bot', 'create a ticket'], 'responses': ['Tarnsferring the request to your PM'], 'context_set': ''}]}\n"
     ]
    }
   ],
   "source": [
    "print(data)"
   ]
  },
  {
   "cell_type": "code",
   "execution_count": 24,
   "metadata": {
    "colab": {
     "base_uri": "https://localhost:8080/"
    },
    "executionInfo": {
     "elapsed": 7,
     "status": "ok",
     "timestamp": 1624191015138,
     "user": {
      "displayName": "Ruchira S Dwivedi",
      "photoUrl": "",
      "userId": "08004570390284030604"
     },
     "user_tz": -330
    },
    "id": "kQMCN-EWNz28",
    "outputId": "2003efad-b7c8-4274-bfd3-fe88800aa8d3"
   },
   "outputs": [
    {
     "name": "stdout",
     "output_type": "stream",
     "text": [
      "[{'tag': 'Intro', 'patterns': ['hi', 'how are you', 'is anyone there', 'hello', 'whats up', 'hey', 'yo', 'listen', 'please help me', 'i am learner from', 'i belong to', 'aiml batch', 'aifl batch', 'i am from', 'my pm is', 'blended', 'online', 'i am from', 'hey ya', 'talking to you for first time'], 'responses': ['Hello! how can i help you ?'], 'context_set': ''}, {'tag': 'Exit', 'patterns': ['thank you', 'thanks', 'cya', 'see you', 'later', 'see you later', 'goodbye', 'i am leaving', 'have a Good day', 'you helped me', 'thanks a lot', 'thanks a ton', 'you are the best', 'great help', 'too good', 'you are a good learning buddy'], 'responses': ['I hope I was able to assist you, Good Bye'], 'context_set': ''}, {'tag': 'Olympus', 'patterns': ['olympus', 'explain me how olympus works', 'I am not able to understand olympus', 'olympus window not working', 'no access to olympus', 'unable to see link in olympus', 'no link visible on olympus', 'whom to contact for olympus', 'lot of problem with olympus', 'olypus is not a good tool', 'lot of problems with olympus', 'how to use olympus', 'teach me olympus'], 'responses': ['Link: Olympus wiki'], 'context_set': ''}, {'tag': 'SL', 'patterns': ['i am not able to understand svm', 'explain me how machine learning works', 'i am not able to understand naive bayes', 'i am not able to understand logistic regression', 'i am not able to understand ensemble techb=niques', 'i am not able to understand knn', 'i am not able to understand knn imputer', 'i am not able to understand cross validation', 'i am not able to understand boosting', 'i am not able to understand random forest', 'i am not able to understand ada boosting', 'i am not able to understand gradient boosting', 'machine learning', 'ML', 'SL', 'supervised learning', 'knn', 'logistic regression', 'regression', 'classification', 'naive bayes', 'nb', 'ensemble techniques', 'bagging', 'boosting', 'ada boosting', 'ada', 'gradient boosting', 'hyper parameters'], 'responses': ['Link: Machine Learning wiki '], 'context_set': ''}, {'tag': 'NN', 'patterns': ['what is deep learning', 'unable to understand deep learning', 'explain me how deep learning works', 'i am not able to understand deep learning', 'not able to understand neural nets', 'very diffult to understand neural nets', 'unable to understand neural nets', 'ann', 'artificial intelligence', 'artificial neural networks', 'weights', 'activation function', 'hidden layers', 'softmax', 'sigmoid', 'relu', 'otimizer', 'forward propagation', 'backward propagation', 'epochs', 'epoch', 'what is an epoch', 'adam', 'sgd'], 'responses': ['Link: Neural Nets wiki'], 'context_set': ''}, {'tag': 'Bot', 'patterns': ['what is your name', 'who are you', 'name please', 'when are your hours of opertions', 'what are your working hours', 'hours of operation', 'working hours', 'hours'], 'responses': ['I am your virtual learning assistant'], 'context_set': ''}, {'tag': 'Profane', 'patterns': ['what the hell', 'bloody stupid bot', 'do you think you are very smart', 'screw you', 'i hate you', 'you are stupid', 'jerk', 'you are a joke', 'useless piece of shit'], 'responses': ['Please use respectful words'], 'context_set': ''}, {'tag': 'Ticket', 'patterns': ['my problem is not solved', 'you did not help me', 'not a good solution', 'bad solution', 'not good solution', 'no help', 'wasted my time', 'useless bot', 'create a ticket'], 'responses': ['Tarnsferring the request to your PM'], 'context_set': ''}]\n"
     ]
    }
   ],
   "source": [
    "print (data['intents'])"
   ]
  },
  {
   "cell_type": "code",
   "execution_count": 25,
   "metadata": {
    "colab": {
     "base_uri": "https://localhost:8080/"
    },
    "executionInfo": {
     "elapsed": 8,
     "status": "ok",
     "timestamp": 1624191018235,
     "user": {
      "displayName": "Ruchira S Dwivedi",
      "photoUrl": "",
      "userId": "08004570390284030604"
     },
     "user_tz": -330
    },
    "id": "M9HeONlcLdvs",
    "outputId": "0227e44e-2781-40b3-cfd2-88aebd39ac26"
   },
   "outputs": [
    {
     "name": "stdout",
     "output_type": "stream",
     "text": [
      "Intro\n"
     ]
    }
   ],
   "source": [
    "print(data['intents'][0]['tag'])"
   ]
  },
  {
   "cell_type": "code",
   "execution_count": 126,
   "metadata": {
    "colab": {
     "base_uri": "https://localhost:8080/"
    },
    "executionInfo": {
     "elapsed": 395,
     "status": "ok",
     "timestamp": 1624191973278,
     "user": {
      "displayName": "Ruchira S Dwivedi",
      "photoUrl": "",
      "userId": "08004570390284030604"
     },
     "user_tz": -330
    },
    "id": "03P1KHyyNUMi",
    "outputId": "337aa2bb-731e-4c7e-92a8-d8ef800dc9cf"
   },
   "outputs": [
    {
     "name": "stdout",
     "output_type": "stream",
     "text": [
      "Intro\n",
      "['Hello! how can i help you ?']\n",
      "Exit\n",
      "['I hope I was able to assist you, Good Bye']\n",
      "Olympus\n",
      "['Link: Olympus wiki']\n",
      "SL\n",
      "['Link: Machine Learning wiki ']\n",
      "NN\n",
      "['Link: Neural Nets wiki']\n",
      "Bot\n",
      "['I am your virtual learning assistant']\n",
      "Profane\n",
      "['Please use respectful words']\n",
      "Ticket\n",
      "['Tarnsferring the request to your PM']\n"
     ]
    }
   ],
   "source": [
    "for each in data['intents']:\n",
    "  print(each['tag'])\n",
    "  print(each['responses'])"
   ]
  },
  {
   "cell_type": "markdown",
   "metadata": {
    "id": "ghmzUOAnKUqg"
   },
   "source": [
    "# **Adding more data to given json file**\n"
   ]
  },
  {
   "cell_type": "code",
   "execution_count": 127,
   "metadata": {
    "executionInfo": {
     "elapsed": 450,
     "status": "ok",
     "timestamp": 1624191977171,
     "user": {
      "displayName": "Ruchira S Dwivedi",
      "photoUrl": "",
      "userId": "08004570390284030604"
     },
     "user_tz": -330
    },
    "id": "5TvNhglMOSmo"
   },
   "outputs": [],
   "source": [
    "new_line={\"tag\":\"Course\",\n",
    "          'patterns':['which course to choose','confused','better course','duration of course'],\n",
    "          'responses':['Link:List of Courses'],\n",
    "          'context_set': ''}\n",
    "          "
   ]
  },
  {
   "cell_type": "code",
   "execution_count": 128,
   "metadata": {
    "colab": {
     "base_uri": "https://localhost:8080/"
    },
    "executionInfo": {
     "elapsed": 4,
     "status": "ok",
     "timestamp": 1624191978468,
     "user": {
      "displayName": "Ruchira S Dwivedi",
      "photoUrl": "",
      "userId": "08004570390284030604"
     },
     "user_tz": -330
    },
    "id": "v5UfEJZ-PRg9",
    "outputId": "c7531a24-965c-4556-83b3-3d0c942da1c4"
   },
   "outputs": [
    {
     "data": {
      "text/plain": [
       "{'context_set': '',\n",
       " 'patterns': ['which course to choose',\n",
       "  'confused',\n",
       "  'better course',\n",
       "  'duration of course'],\n",
       " 'responses': ['Link:List of Courses'],\n",
       " 'tag': 'Course'}"
      ]
     },
     "execution_count": 128,
     "metadata": {
      "tags": []
     },
     "output_type": "execute_result"
    }
   ],
   "source": [
    "new_line"
   ]
  },
  {
   "cell_type": "code",
   "execution_count": 129,
   "metadata": {
    "executionInfo": {
     "elapsed": 388,
     "status": "ok",
     "timestamp": 1624191981054,
     "user": {
      "displayName": "Ruchira S Dwivedi",
      "photoUrl": "",
      "userId": "08004570390284030604"
     },
     "user_tz": -330
    },
    "id": "wwAWR3-IPjt6"
   },
   "outputs": [],
   "source": [
    "data['intents'].append(new_line)"
   ]
  },
  {
   "cell_type": "code",
   "execution_count": 130,
   "metadata": {
    "colab": {
     "base_uri": "https://localhost:8080/"
    },
    "executionInfo": {
     "elapsed": 5,
     "status": "ok",
     "timestamp": 1624191981452,
     "user": {
      "displayName": "Ruchira S Dwivedi",
      "photoUrl": "",
      "userId": "08004570390284030604"
     },
     "user_tz": -330
    },
    "id": "DGZUIVetTMJZ",
    "outputId": "621ac560-adef-4edc-8646-696a6776309d"
   },
   "outputs": [
    {
     "name": "stdout",
     "output_type": "stream",
     "text": [
      "Intro\n",
      "Exit\n",
      "Olympus\n",
      "SL\n",
      "NN\n",
      "Bot\n",
      "Profane\n",
      "Ticket\n",
      "Course\n"
     ]
    }
   ],
   "source": [
    "for each in data['intents']:\n",
    "  print(each['tag'])\n",
    "  #print(each['responses'])"
   ]
  },
  {
   "cell_type": "code",
   "execution_count": 131,
   "metadata": {
    "colab": {
     "base_uri": "https://localhost:8080/"
    },
    "executionInfo": {
     "elapsed": 528,
     "status": "ok",
     "timestamp": 1624191984522,
     "user": {
      "displayName": "Ruchira S Dwivedi",
      "photoUrl": "",
      "userId": "08004570390284030604"
     },
     "user_tz": -330
    },
    "id": "Rc2Xf8RLTZmi",
    "outputId": "7241b486-f99e-4fbc-ec68-29265c5522c5"
   },
   "outputs": [
    {
     "name": "stdout",
     "output_type": "stream",
     "text": [
      "Intro\n",
      "Exit\n",
      "Olympus\n",
      "SL\n",
      "NN\n",
      "Bot\n",
      "Profane\n",
      "Ticket\n",
      "Course\n",
      "Experience\n"
     ]
    }
   ],
   "source": [
    "new_line={'tag':\"Experience\",\n",
    "          'patterns':['less experience','more experience','relevant experience','No experience','how much experience do i need'],\n",
    "          'responses':['Link:Relevant Experience positions'],\n",
    "          'context_set': '' }\n",
    "data['intents'].append(new_line)\n",
    "for each in data['intents']:\n",
    "  print(each['tag'])"
   ]
  },
  {
   "cell_type": "code",
   "execution_count": 132,
   "metadata": {
    "colab": {
     "base_uri": "https://localhost:8080/"
    },
    "executionInfo": {
     "elapsed": 392,
     "status": "ok",
     "timestamp": 1624191987639,
     "user": {
      "displayName": "Ruchira S Dwivedi",
      "photoUrl": "",
      "userId": "08004570390284030604"
     },
     "user_tz": -330
    },
    "id": "ruskfHcyTc_k",
    "outputId": "59be23fe-8bb9-4b70-d821-3e5c979c581f"
   },
   "outputs": [
    {
     "name": "stdout",
     "output_type": "stream",
     "text": [
      "Intro\n",
      "Exit\n",
      "Olympus\n",
      "SL\n",
      "NN\n",
      "Bot\n",
      "Profane\n",
      "Ticket\n",
      "Course\n",
      "Experience\n",
      "Career\n"
     ]
    }
   ],
   "source": [
    "new_line={\"tag\":\"Career\",\n",
    "          'patterns':['what are the career opportunities','roles offered','campus placement','salary offered'],\n",
    "          'responses':['Link:List of sample Roles offered'],\n",
    "          'context_set': ''}\n",
    "\n",
    "data['intents'].append(new_line)\n",
    "for each in data['intents']:\n",
    "  print(each['tag'])          "
   ]
  },
  {
   "cell_type": "markdown",
   "metadata": {
    "id": "rS8_NEVkPczd"
   },
   "source": [
    "## **Extracting data from json data file**"
   ]
  },
  {
   "cell_type": "code",
   "execution_count": 134,
   "metadata": {
    "executionInfo": {
     "elapsed": 386,
     "status": "ok",
     "timestamp": 1624192002122,
     "user": {
      "displayName": "Ruchira S Dwivedi",
      "photoUrl": "",
      "userId": "08004570390284030604"
     },
     "user_tz": -330
    },
    "id": "1AQravIqSay_"
   },
   "outputs": [],
   "source": [
    "words = []\n",
    "labels = []\n",
    "docs_x = []\n",
    "docs_y = []"
   ]
  },
  {
   "cell_type": "code",
   "execution_count": 135,
   "metadata": {
    "executionInfo": {
     "elapsed": 5,
     "status": "ok",
     "timestamp": 1624192004075,
     "user": {
      "displayName": "Ruchira S Dwivedi",
      "photoUrl": "",
      "userId": "08004570390284030604"
     },
     "user_tz": -330
    },
    "id": "oJd_RHl2XmMZ"
   },
   "outputs": [],
   "source": [
    "for intent in data['intents']:\n",
    "    for pattern in intent['patterns']:\n",
    "        wrds = nltk.word_tokenize(pattern)\n",
    "        words.extend(wrds)\n",
    "        docs_x.append(wrds)\n",
    "        docs_y.append(intent[\"tag\"])\n",
    "        \n",
    "    if intent['tag'] not in labels:\n",
    "        labels.append(intent['tag'])"
   ]
  },
  {
   "cell_type": "markdown",
   "metadata": {
    "id": "H4Z_W6r5bkT8"
   },
   "source": [
    "## **Performing Stemming on the words**"
   ]
  },
  {
   "cell_type": "code",
   "execution_count": 136,
   "metadata": {
    "executionInfo": {
     "elapsed": 5,
     "status": "ok",
     "timestamp": 1624192005363,
     "user": {
      "displayName": "Ruchira S Dwivedi",
      "photoUrl": "",
      "userId": "08004570390284030604"
     },
     "user_tz": -330
    },
    "id": "9pSKZuxwX9mQ"
   },
   "outputs": [],
   "source": [
    "words = [stemmer.stem(w.lower()) for w in words if w != \"?\"]\n",
    "words = sorted(list(set(words)))\n",
    "\n",
    "labels = sorted(labels)"
   ]
  },
  {
   "cell_type": "markdown",
   "metadata": {
    "id": "eCX0-_7Ibsb4"
   },
   "source": [
    "## **Creating Bag of words for vector representation**"
   ]
  },
  {
   "cell_type": "code",
   "execution_count": 137,
   "metadata": {
    "executionInfo": {
     "elapsed": 451,
     "status": "ok",
     "timestamp": 1624192009011,
     "user": {
      "displayName": "Ruchira S Dwivedi",
      "photoUrl": "",
      "userId": "08004570390284030604"
     },
     "user_tz": -330
    },
    "id": "fB0R1-2SX9tP"
   },
   "outputs": [],
   "source": [
    "training = []\n",
    "output = []\n",
    "\n",
    "out_empty = [0 for _ in range(len(labels))]\n",
    "\n",
    "for x, doc in enumerate(docs_x):\n",
    "    bag = []\n",
    "\n",
    "    wrds = [stemmer.stem(w.lower()) for w in doc]\n",
    "\n",
    "    for w in words:\n",
    "        if w in wrds:\n",
    "            bag.append(1)\n",
    "        else:\n",
    "            bag.append(0)\n",
    "\n",
    "    output_row = out_empty[:]\n",
    "    output_row[labels.index(docs_y[x])] = 1\n",
    "\n",
    "    training.append(bag)\n",
    "    output.append(output_row)"
   ]
  },
  {
   "cell_type": "code",
   "execution_count": 138,
   "metadata": {
    "executionInfo": {
     "elapsed": 401,
     "status": "ok",
     "timestamp": 1624192012489,
     "user": {
      "displayName": "Ruchira S Dwivedi",
      "photoUrl": "",
      "userId": "08004570390284030604"
     },
     "user_tz": -330
    },
    "id": "juIqe36nYHwU"
   },
   "outputs": [],
   "source": [
    "training = numpy.array(training)\n",
    "output = numpy.array(output)"
   ]
  },
  {
   "cell_type": "code",
   "execution_count": 47,
   "metadata": {
    "executionInfo": {
     "elapsed": 651,
     "status": "ok",
     "timestamp": 1624191196706,
     "user": {
      "displayName": "Ruchira S Dwivedi",
      "photoUrl": "",
      "userId": "08004570390284030604"
     },
     "user_tz": -330
    },
    "id": "ejCvkrUmYH22"
   },
   "outputs": [],
   "source": [
    "import random\n",
    "random.seed(0)\n",
    "\n",
    "import tensorflow\n",
    "from tensorflow.keras.models import Sequential\n",
    "from tensorflow.keras.layers import Flatten, Dense,Input,BatchNormalization,Activation,Dropout\n",
    "from keras.utils.np_utils import to_categorical\n",
    "from keras import optimizers,regularizers"
   ]
  },
  {
   "cell_type": "code",
   "execution_count": 139,
   "metadata": {
    "colab": {
     "base_uri": "https://localhost:8080/"
    },
    "executionInfo": {
     "elapsed": 5,
     "status": "ok",
     "timestamp": 1624192014907,
     "user": {
      "displayName": "Ruchira S Dwivedi",
      "photoUrl": "",
      "userId": "08004570390284030604"
     },
     "user_tz": -330
    },
    "id": "bWHwZx4QEioH",
    "outputId": "dce34ba8-2f30-4ae3-bd73-63ca3163e60b"
   },
   "outputs": [
    {
     "data": {
      "text/plain": [
       "array([[0, 0, 0, ..., 0, 0, 0],\n",
       "       [0, 0, 0, ..., 0, 0, 1],\n",
       "       [0, 0, 0, ..., 0, 0, 0],\n",
       "       ...,\n",
       "       [0, 0, 0, ..., 0, 0, 0],\n",
       "       [0, 0, 0, ..., 0, 0, 0],\n",
       "       [1, 0, 0, ..., 0, 0, 0]])"
      ]
     },
     "execution_count": 139,
     "metadata": {
      "tags": []
     },
     "output_type": "execute_result"
    }
   ],
   "source": [
    "training"
   ]
  },
  {
   "cell_type": "code",
   "execution_count": 140,
   "metadata": {
    "colab": {
     "base_uri": "https://localhost:8080/"
    },
    "executionInfo": {
     "elapsed": 7,
     "status": "ok",
     "timestamp": 1624192016360,
     "user": {
      "displayName": "Ruchira S Dwivedi",
      "photoUrl": "",
      "userId": "08004570390284030604"
     },
     "user_tz": -330
    },
    "id": "bpZr09wka3oh",
    "outputId": "3a742d27-e9db-491f-8670-1df309c9fa43"
   },
   "outputs": [
    {
     "data": {
      "text/plain": [
       "(128, 150)"
      ]
     },
     "execution_count": 140,
     "metadata": {
      "tags": []
     },
     "output_type": "execute_result"
    }
   ],
   "source": [
    "training.shape"
   ]
  },
  {
   "cell_type": "code",
   "execution_count": 83,
   "metadata": {
    "colab": {
     "base_uri": "https://localhost:8080/"
    },
    "executionInfo": {
     "elapsed": 404,
     "status": "ok",
     "timestamp": 1624191576601,
     "user": {
      "displayName": "Ruchira S Dwivedi",
      "photoUrl": "",
      "userId": "08004570390284030604"
     },
     "user_tz": -330
    },
    "id": "qgHmgD_vErKc",
    "outputId": "0a12af9b-4b73-4b1e-c22e-2d158b48b869"
   },
   "outputs": [
    {
     "data": {
      "text/plain": [
       "array([[0, 0, 1, ..., 0, 0, 0],\n",
       "       [0, 0, 1, ..., 0, 0, 0],\n",
       "       [0, 0, 1, ..., 0, 0, 0],\n",
       "       ...,\n",
       "       [0, 0, 0, ..., 0, 0, 1],\n",
       "       [0, 0, 0, ..., 0, 0, 1],\n",
       "       [0, 0, 0, ..., 0, 0, 1]])"
      ]
     },
     "execution_count": 83,
     "metadata": {
      "tags": []
     },
     "output_type": "execute_result"
    }
   ],
   "source": [
    "output"
   ]
  },
  {
   "cell_type": "code",
   "execution_count": 141,
   "metadata": {
    "colab": {
     "base_uri": "https://localhost:8080/"
    },
    "executionInfo": {
     "elapsed": 445,
     "status": "ok",
     "timestamp": 1624192019976,
     "user": {
      "displayName": "Ruchira S Dwivedi",
      "photoUrl": "",
      "userId": "08004570390284030604"
     },
     "user_tz": -330
    },
    "id": "aFDL3E2Pa8J6",
    "outputId": "34cc638d-fead-4205-8330-c4ad7fd22367"
   },
   "outputs": [
    {
     "data": {
      "text/plain": [
       "(128, 8)"
      ]
     },
     "execution_count": 141,
     "metadata": {
      "tags": []
     },
     "output_type": "execute_result"
    }
   ],
   "source": [
    "output.shape"
   ]
  },
  {
   "cell_type": "markdown",
   "metadata": {
    "id": "MHVRF5PMb8pL"
   },
   "source": [
    "## **Creating a Neural Network**"
   ]
  },
  {
   "cell_type": "code",
   "execution_count": 144,
   "metadata": {
    "executionInfo": {
     "elapsed": 407,
     "status": "ok",
     "timestamp": 1624192035048,
     "user": {
      "displayName": "Ruchira S Dwivedi",
      "photoUrl": "",
      "userId": "08004570390284030604"
     },
     "user_tz": -330
    },
    "id": "aGrKx7FhY2HT"
   },
   "outputs": [],
   "source": [
    "model=Sequential()\n",
    "model.add(Dense(100,input_dim=len(training[0]),activation='relu'))\n",
    "model.add(Dropout(0.5))\n",
    "model.add(Dense(64,activation='relu'))\n",
    "model.add(Dropout(0.5))\n",
    "model.add(Dense(8,activation='softmax'))"
   ]
  },
  {
   "cell_type": "code",
   "execution_count": 145,
   "metadata": {
    "colab": {
     "base_uri": "https://localhost:8080/"
    },
    "executionInfo": {
     "elapsed": 418,
     "status": "ok",
     "timestamp": 1624192037699,
     "user": {
      "displayName": "Ruchira S Dwivedi",
      "photoUrl": "",
      "userId": "08004570390284030604"
     },
     "user_tz": -330
    },
    "id": "7XZyB9WyZyQl",
    "outputId": "e628f2fa-955f-4f16-c94d-437ae8ad52ea"
   },
   "outputs": [
    {
     "name": "stdout",
     "output_type": "stream",
     "text": [
      "Model: \"sequential_10\"\n",
      "_________________________________________________________________\n",
      "Layer (type)                 Output Shape              Param #   \n",
      "=================================================================\n",
      "dense_31 (Dense)             (None, 100)               15100     \n",
      "_________________________________________________________________\n",
      "dropout_21 (Dropout)         (None, 100)               0         \n",
      "_________________________________________________________________\n",
      "dense_32 (Dense)             (None, 64)                6464      \n",
      "_________________________________________________________________\n",
      "dropout_22 (Dropout)         (None, 64)                0         \n",
      "_________________________________________________________________\n",
      "dense_33 (Dense)             (None, 8)                 520       \n",
      "=================================================================\n",
      "Total params: 22,084\n",
      "Trainable params: 22,084\n",
      "Non-trainable params: 0\n",
      "_________________________________________________________________\n"
     ]
    }
   ],
   "source": [
    "model.summary()"
   ]
  },
  {
   "cell_type": "markdown",
   "metadata": {
    "id": "vdgGoDDbcGQk"
   },
   "source": [
    "## **Compiling and training the model**"
   ]
  },
  {
   "cell_type": "code",
   "execution_count": 146,
   "metadata": {
    "colab": {
     "base_uri": "https://localhost:8080/"
    },
    "executionInfo": {
     "elapsed": 7,
     "status": "ok",
     "timestamp": 1624192041154,
     "user": {
      "displayName": "Ruchira S Dwivedi",
      "photoUrl": "",
      "userId": "08004570390284030604"
     },
     "user_tz": -330
    },
    "id": "v1FLZymSZzt9",
    "outputId": "2ce93cc5-31be-453e-a0c7-203c53f65b15"
   },
   "outputs": [
    {
     "name": "stderr",
     "output_type": "stream",
     "text": [
      "/usr/local/lib/python3.7/dist-packages/tensorflow/python/keras/optimizer_v2/optimizer_v2.py:375: UserWarning: The `lr` argument is deprecated, use `learning_rate` instead.\n",
      "  \"The `lr` argument is deprecated, use `learning_rate` instead.\")\n"
     ]
    }
   ],
   "source": [
    "sgd = optimizers.SGD(lr=0.001, decay=1e-6, momentum=0.9)\n",
    "adam = tensorflow.keras.optimizers.Adam(learning_rate=0.1)\n",
    "model.compile(optimizer=adam,\n",
    "              loss='categorical_crossentropy',\n",
    "              metrics=['accuracy'])"
   ]
  },
  {
   "cell_type": "code",
   "execution_count": 147,
   "metadata": {
    "colab": {
     "base_uri": "https://localhost:8080/"
    },
    "executionInfo": {
     "elapsed": 2402,
     "status": "ok",
     "timestamp": 1624192046225,
     "user": {
      "displayName": "Ruchira S Dwivedi",
      "photoUrl": "",
      "userId": "08004570390284030604"
     },
     "user_tz": -330
    },
    "id": "7D6_afbPaNxG",
    "outputId": "798133eb-f60f-4a71-f520-c364dcf14109"
   },
   "outputs": [
    {
     "name": "stdout",
     "output_type": "stream",
     "text": [
      "Epoch 1/100\n",
      "4/4 [==============================] - 0s 3ms/step - loss: 2.4989 - accuracy: 0.2031\n",
      "Epoch 2/100\n",
      "4/4 [==============================] - 0s 3ms/step - loss: 2.3499 - accuracy: 0.3047\n",
      "Epoch 3/100\n",
      "4/4 [==============================] - 0s 3ms/step - loss: 2.0822 - accuracy: 0.3828\n",
      "Epoch 4/100\n",
      "4/4 [==============================] - 0s 3ms/step - loss: 1.7809 - accuracy: 0.4375\n",
      "Epoch 5/100\n",
      "4/4 [==============================] - 0s 4ms/step - loss: 1.5671 - accuracy: 0.4766\n",
      "Epoch 6/100\n",
      "4/4 [==============================] - 0s 5ms/step - loss: 1.8075 - accuracy: 0.4609\n",
      "Epoch 7/100\n",
      "4/4 [==============================] - 0s 3ms/step - loss: 1.4170 - accuracy: 0.5781\n",
      "Epoch 8/100\n",
      "4/4 [==============================] - 0s 3ms/step - loss: 1.3199 - accuracy: 0.4844\n",
      "Epoch 9/100\n",
      "4/4 [==============================] - 0s 3ms/step - loss: 2.0114 - accuracy: 0.6016\n",
      "Epoch 10/100\n",
      "4/4 [==============================] - 0s 3ms/step - loss: 1.7098 - accuracy: 0.5547\n",
      "Epoch 11/100\n",
      "4/4 [==============================] - 0s 3ms/step - loss: 2.0159 - accuracy: 0.6016\n",
      "Epoch 12/100\n",
      "4/4 [==============================] - 0s 3ms/step - loss: 1.5208 - accuracy: 0.6484\n",
      "Epoch 13/100\n",
      "4/4 [==============================] - 0s 3ms/step - loss: 1.4489 - accuracy: 0.7188\n",
      "Epoch 14/100\n",
      "4/4 [==============================] - 0s 3ms/step - loss: 1.5014 - accuracy: 0.6016\n",
      "Epoch 15/100\n",
      "4/4 [==============================] - 0s 3ms/step - loss: 2.3271 - accuracy: 0.6094\n",
      "Epoch 16/100\n",
      "4/4 [==============================] - 0s 4ms/step - loss: 1.4315 - accuracy: 0.6641\n",
      "Epoch 17/100\n",
      "4/4 [==============================] - 0s 4ms/step - loss: 1.8801 - accuracy: 0.6875\n",
      "Epoch 18/100\n",
      "4/4 [==============================] - 0s 4ms/step - loss: 1.8678 - accuracy: 0.6406\n",
      "Epoch 19/100\n",
      "4/4 [==============================] - 0s 3ms/step - loss: 1.6603 - accuracy: 0.6172\n",
      "Epoch 20/100\n",
      "4/4 [==============================] - 0s 4ms/step - loss: 1.9060 - accuracy: 0.5859\n",
      "Epoch 21/100\n",
      "4/4 [==============================] - 0s 3ms/step - loss: 1.3501 - accuracy: 0.6016\n",
      "Epoch 22/100\n",
      "4/4 [==============================] - 0s 3ms/step - loss: 1.7850 - accuracy: 0.5703\n",
      "Epoch 23/100\n",
      "4/4 [==============================] - 0s 3ms/step - loss: 1.3905 - accuracy: 0.6797\n",
      "Epoch 24/100\n",
      "4/4 [==============================] - 0s 3ms/step - loss: 1.8523 - accuracy: 0.6484\n",
      "Epoch 25/100\n",
      "4/4 [==============================] - 0s 3ms/step - loss: 1.7468 - accuracy: 0.5938\n",
      "Epoch 26/100\n",
      "4/4 [==============================] - 0s 3ms/step - loss: 1.3298 - accuracy: 0.6094\n",
      "Epoch 27/100\n",
      "4/4 [==============================] - 0s 3ms/step - loss: 1.0085 - accuracy: 0.6953\n",
      "Epoch 28/100\n",
      "4/4 [==============================] - 0s 3ms/step - loss: 1.4199 - accuracy: 0.6406\n",
      "Epoch 29/100\n",
      "4/4 [==============================] - 0s 3ms/step - loss: 1.3130 - accuracy: 0.6250\n",
      "Epoch 30/100\n",
      "4/4 [==============================] - 0s 3ms/step - loss: 1.0377 - accuracy: 0.6719\n",
      "Epoch 31/100\n",
      "4/4 [==============================] - 0s 3ms/step - loss: 1.3774 - accuracy: 0.6875\n",
      "Epoch 32/100\n",
      "4/4 [==============================] - 0s 3ms/step - loss: 1.2379 - accuracy: 0.6172\n",
      "Epoch 33/100\n",
      "4/4 [==============================] - 0s 3ms/step - loss: 0.9974 - accuracy: 0.6484\n",
      "Epoch 34/100\n",
      "4/4 [==============================] - 0s 3ms/step - loss: 1.4163 - accuracy: 0.6250\n",
      "Epoch 35/100\n",
      "4/4 [==============================] - 0s 3ms/step - loss: 1.7197 - accuracy: 0.6328\n",
      "Epoch 36/100\n",
      "4/4 [==============================] - 0s 3ms/step - loss: 0.9368 - accuracy: 0.6562\n",
      "Epoch 37/100\n",
      "4/4 [==============================] - 0s 3ms/step - loss: 1.2607 - accuracy: 0.7109\n",
      "Epoch 38/100\n",
      "4/4 [==============================] - 0s 3ms/step - loss: 1.0970 - accuracy: 0.7031\n",
      "Epoch 39/100\n",
      "4/4 [==============================] - 0s 3ms/step - loss: 1.0527 - accuracy: 0.6875\n",
      "Epoch 40/100\n",
      "4/4 [==============================] - 0s 4ms/step - loss: 1.5388 - accuracy: 0.6797\n",
      "Epoch 41/100\n",
      "4/4 [==============================] - 0s 3ms/step - loss: 1.2637 - accuracy: 0.6875\n",
      "Epoch 42/100\n",
      "4/4 [==============================] - 0s 3ms/step - loss: 0.9999 - accuracy: 0.7422\n",
      "Epoch 43/100\n",
      "4/4 [==============================] - 0s 4ms/step - loss: 1.0895 - accuracy: 0.6719\n",
      "Epoch 44/100\n",
      "4/4 [==============================] - 0s 4ms/step - loss: 0.8885 - accuracy: 0.7266\n",
      "Epoch 45/100\n",
      "4/4 [==============================] - 0s 3ms/step - loss: 1.0406 - accuracy: 0.6875\n",
      "Epoch 46/100\n",
      "4/4 [==============================] - 0s 3ms/step - loss: 1.2078 - accuracy: 0.6641\n",
      "Epoch 47/100\n",
      "4/4 [==============================] - 0s 3ms/step - loss: 1.4512 - accuracy: 0.6562\n",
      "Epoch 48/100\n",
      "4/4 [==============================] - 0s 3ms/step - loss: 1.1147 - accuracy: 0.6641\n",
      "Epoch 49/100\n",
      "4/4 [==============================] - 0s 4ms/step - loss: 1.7611 - accuracy: 0.7344\n",
      "Epoch 50/100\n",
      "4/4 [==============================] - 0s 3ms/step - loss: 1.5384 - accuracy: 0.7266\n",
      "Epoch 51/100\n",
      "4/4 [==============================] - 0s 3ms/step - loss: 1.2578 - accuracy: 0.7031\n",
      "Epoch 52/100\n",
      "4/4 [==============================] - 0s 4ms/step - loss: 1.4368 - accuracy: 0.6875\n",
      "Epoch 53/100\n",
      "4/4 [==============================] - 0s 3ms/step - loss: 2.3874 - accuracy: 0.7031\n",
      "Epoch 54/100\n",
      "4/4 [==============================] - 0s 3ms/step - loss: 0.9093 - accuracy: 0.7188\n",
      "Epoch 55/100\n",
      "4/4 [==============================] - 0s 3ms/step - loss: 1.0782 - accuracy: 0.7031\n",
      "Epoch 56/100\n",
      "4/4 [==============================] - 0s 4ms/step - loss: 2.1934 - accuracy: 0.7500\n",
      "Epoch 57/100\n",
      "4/4 [==============================] - 0s 3ms/step - loss: 1.4200 - accuracy: 0.6641\n",
      "Epoch 58/100\n",
      "4/4 [==============================] - 0s 3ms/step - loss: 1.1365 - accuracy: 0.6484\n",
      "Epoch 59/100\n",
      "4/4 [==============================] - 0s 3ms/step - loss: 1.4109 - accuracy: 0.7031\n",
      "Epoch 60/100\n",
      "4/4 [==============================] - 0s 3ms/step - loss: 0.9092 - accuracy: 0.7344\n",
      "Epoch 61/100\n",
      "4/4 [==============================] - 0s 3ms/step - loss: 1.0336 - accuracy: 0.6875\n",
      "Epoch 62/100\n",
      "4/4 [==============================] - 0s 5ms/step - loss: 1.3688 - accuracy: 0.7422\n",
      "Epoch 63/100\n",
      "4/4 [==============================] - 0s 3ms/step - loss: 1.5173 - accuracy: 0.7422\n",
      "Epoch 64/100\n",
      "4/4 [==============================] - 0s 3ms/step - loss: 0.7729 - accuracy: 0.7422\n",
      "Epoch 65/100\n",
      "4/4 [==============================] - 0s 3ms/step - loss: 0.8708 - accuracy: 0.7812\n",
      "Epoch 66/100\n",
      "4/4 [==============================] - 0s 3ms/step - loss: 0.8284 - accuracy: 0.6875\n",
      "Epoch 67/100\n",
      "4/4 [==============================] - 0s 3ms/step - loss: 0.9702 - accuracy: 0.6875\n",
      "Epoch 68/100\n",
      "4/4 [==============================] - 0s 3ms/step - loss: 1.0322 - accuracy: 0.7109\n",
      "Epoch 69/100\n",
      "4/4 [==============================] - 0s 3ms/step - loss: 1.2912 - accuracy: 0.7344\n",
      "Epoch 70/100\n",
      "4/4 [==============================] - 0s 3ms/step - loss: 0.8642 - accuracy: 0.7422\n",
      "Epoch 71/100\n",
      "4/4 [==============================] - 0s 3ms/step - loss: 1.7608 - accuracy: 0.7344\n",
      "Epoch 72/100\n",
      "4/4 [==============================] - 0s 3ms/step - loss: 1.0578 - accuracy: 0.7344\n",
      "Epoch 73/100\n",
      "4/4 [==============================] - 0s 3ms/step - loss: 0.8023 - accuracy: 0.7188\n",
      "Epoch 74/100\n",
      "4/4 [==============================] - 0s 3ms/step - loss: 0.8985 - accuracy: 0.7266\n",
      "Epoch 75/100\n",
      "4/4 [==============================] - 0s 3ms/step - loss: 1.0631 - accuracy: 0.6875\n",
      "Epoch 76/100\n",
      "4/4 [==============================] - 0s 3ms/step - loss: 0.7245 - accuracy: 0.7500\n",
      "Epoch 77/100\n",
      "4/4 [==============================] - 0s 5ms/step - loss: 1.0119 - accuracy: 0.7422\n",
      "Epoch 78/100\n",
      "4/4 [==============================] - 0s 3ms/step - loss: 1.0644 - accuracy: 0.6953\n",
      "Epoch 79/100\n",
      "4/4 [==============================] - 0s 4ms/step - loss: 1.6947 - accuracy: 0.6953\n",
      "Epoch 80/100\n",
      "4/4 [==============================] - 0s 3ms/step - loss: 1.0574 - accuracy: 0.7656\n",
      "Epoch 81/100\n",
      "4/4 [==============================] - 0s 3ms/step - loss: 0.5730 - accuracy: 0.8203\n",
      "Epoch 82/100\n",
      "4/4 [==============================] - 0s 3ms/step - loss: 1.5972 - accuracy: 0.7031\n",
      "Epoch 83/100\n",
      "4/4 [==============================] - 0s 4ms/step - loss: 3.3038 - accuracy: 0.7109\n",
      "Epoch 84/100\n",
      "4/4 [==============================] - 0s 3ms/step - loss: 0.7995 - accuracy: 0.8281\n",
      "Epoch 85/100\n",
      "4/4 [==============================] - 0s 3ms/step - loss: 1.0348 - accuracy: 0.7266\n",
      "Epoch 86/100\n",
      "4/4 [==============================] - 0s 3ms/step - loss: 0.6845 - accuracy: 0.8125\n",
      "Epoch 87/100\n",
      "4/4 [==============================] - 0s 3ms/step - loss: 0.5332 - accuracy: 0.8047\n",
      "Epoch 88/100\n",
      "4/4 [==============================] - 0s 3ms/step - loss: 1.2667 - accuracy: 0.7422\n",
      "Epoch 89/100\n",
      "4/4 [==============================] - 0s 3ms/step - loss: 0.9104 - accuracy: 0.7812\n",
      "Epoch 90/100\n",
      "4/4 [==============================] - 0s 3ms/step - loss: 1.2031 - accuracy: 0.7266\n",
      "Epoch 91/100\n",
      "4/4 [==============================] - 0s 4ms/step - loss: 1.1209 - accuracy: 0.7734\n",
      "Epoch 92/100\n",
      "4/4 [==============================] - 0s 3ms/step - loss: 1.1744 - accuracy: 0.7422\n",
      "Epoch 93/100\n",
      "4/4 [==============================] - 0s 4ms/step - loss: 1.4690 - accuracy: 0.6484\n",
      "Epoch 94/100\n",
      "4/4 [==============================] - 0s 3ms/step - loss: 1.3733 - accuracy: 0.6719\n",
      "Epoch 95/100\n",
      "4/4 [==============================] - 0s 3ms/step - loss: 1.5611 - accuracy: 0.7266\n",
      "Epoch 96/100\n",
      "4/4 [==============================] - 0s 3ms/step - loss: 0.7272 - accuracy: 0.7891\n",
      "Epoch 97/100\n",
      "4/4 [==============================] - 0s 3ms/step - loss: 1.6080 - accuracy: 0.7500\n",
      "Epoch 98/100\n",
      "4/4 [==============================] - 0s 4ms/step - loss: 2.0855 - accuracy: 0.7500\n",
      "Epoch 99/100\n",
      "4/4 [==============================] - 0s 3ms/step - loss: 2.6364 - accuracy: 0.7188\n",
      "Epoch 100/100\n",
      "4/4 [==============================] - 0s 3ms/step - loss: 0.7589 - accuracy: 0.7812\n"
     ]
    },
    {
     "data": {
      "text/plain": [
       "<tensorflow.python.keras.callbacks.History at 0x7f9c2a365890>"
      ]
     },
     "execution_count": 147,
     "metadata": {
      "tags": []
     },
     "output_type": "execute_result"
    }
   ],
   "source": [
    "model.fit(training, output, epochs=100)"
   ]
  },
  {
   "cell_type": "markdown",
   "metadata": {
    "id": "1U-W8GSDcTvS"
   },
   "source": [
    "## **Predicting from given model by first converting it into bag of words**"
   ]
  },
  {
   "cell_type": "code",
   "execution_count": 148,
   "metadata": {
    "executionInfo": {
     "elapsed": 514,
     "status": "ok",
     "timestamp": 1624192053051,
     "user": {
      "displayName": "Ruchira S Dwivedi",
      "photoUrl": "",
      "userId": "08004570390284030604"
     },
     "user_tz": -330
    },
    "id": "oq7cpFYhaN2m"
   },
   "outputs": [],
   "source": [
    "def bag_of_words(s, words):\n",
    "    bag = [0 for _ in range(len(words))]\n",
    "    #bag=[]\n",
    "\n",
    "    s_words = nltk.word_tokenize(s)\n",
    "    s_words = [stemmer.stem(word.lower()) for word in s_words]\n",
    "\n",
    "    for se in s_words:\n",
    "        for i, w in enumerate(words):\n",
    "            if w == se:\n",
    "                bag[i] = 1\n",
    "      \n",
    "    return numpy.array(bag)\n"
   ]
  },
  {
   "cell_type": "markdown",
   "metadata": {
    "id": "X3M_scRBcifB"
   },
   "source": [
    "## **Model predicting on the user input given and finding the most probable class. Finally, we randomly pick a response from that class.**"
   ]
  },
  {
   "cell_type": "code",
   "execution_count": 152,
   "metadata": {
    "executionInfo": {
     "elapsed": 643,
     "status": "ok",
     "timestamp": 1624193465303,
     "user": {
      "displayName": "Ruchira S Dwivedi",
      "photoUrl": "",
      "userId": "08004570390284030604"
     },
     "user_tz": -330
    },
    "id": "EuDxotJrjFFe"
   },
   "outputs": [],
   "source": [
    "def chat():\n",
    "    print(\"Hi!! I am GL-Bot. How can I help you today? (type quit to stop)!\")\n",
    "    while True:\n",
    "        inp = input(\"You: \")\n",
    "        if inp.lower() == \"quit\":\n",
    "          break\n",
    "        pp =bag_of_words(inp,words)\n",
    "        train=pp.reshape(150,1)\n",
    "        train=tensorflow.expand_dims(pp,axis=0)\n",
    "        #print(train.shape)\n",
    "        results = model.predict(train) \n",
    "         \n",
    "        #results = model.predict([bag_of_words(inp, words)])\n",
    "        results_index = numpy.argmax(results)\n",
    "        tag = labels[results_index]\n",
    "\n",
    "        for tg in data[\"intents\"]:\n",
    "            if tg['tag'] == tag:\n",
    "                responses = tg['responses']\n",
    "\n",
    "        print(random.choice(responses))\n",
    "    "
   ]
  },
  {
   "cell_type": "code",
   "execution_count": 153,
   "metadata": {
    "colab": {
     "base_uri": "https://localhost:8080/"
    },
    "executionInfo": {
     "elapsed": 136365,
     "status": "ok",
     "timestamp": 1624193607449,
     "user": {
      "displayName": "Ruchira S Dwivedi",
      "photoUrl": "",
      "userId": "08004570390284030604"
     },
     "user_tz": -330
    },
    "id": "dIZWc86PhQCR",
    "outputId": "0d344a3d-6b44-4c2a-bc78-d9a4da738725"
   },
   "outputs": [
    {
     "name": "stdout",
     "output_type": "stream",
     "text": [
      "Hi!! I am GL-Bot. How can I help you today? (type quit to stop)!\n",
      "You: Hi\n",
      "Hello! how can i help you ?\n",
      "You: need help with olympus\n",
      "Link: Olympus wiki\n",
      "You: cant understand regression\n",
      "Link: Machine Learning wiki \n",
      "You: why use weights in neural network?\n",
      "Link: Neural Nets wiki\n",
      "You: not a good solution\n",
      "Tarnsferring the request to your PM\n",
      "You: you are a stupid bot\n",
      "Please use respectful words\n",
      "You: ok goodbye\n",
      "I hope I was able to assist you, Good Bye\n",
      "You: quit\n"
     ]
    }
   ],
   "source": [
    "chat()"
   ]
  },
  {
   "cell_type": "code",
   "execution_count": null,
   "metadata": {
    "id": "-qlYX9X7kFSD"
   },
   "outputs": [],
   "source": []
  }
 ],
 "metadata": {
  "accelerator": "GPU",
  "colab": {
   "authorship_tag": "ABX9TyNzomlxHyN21PNuixoBXn0g",
   "collapsed_sections": [],
   "name": "Ruchira-NLP-part2ver3.ipynb",
   "provenance": []
  },
  "kernelspec": {
   "display_name": "Python 3",
   "language": "python",
   "name": "python3"
  },
  "language_info": {
   "codemirror_mode": {
    "name": "ipython",
    "version": 3
   },
   "file_extension": ".py",
   "mimetype": "text/x-python",
   "name": "python",
   "nbconvert_exporter": "python",
   "pygments_lexer": "ipython3",
   "version": "3.8.3"
  }
 },
 "nbformat": 4,
 "nbformat_minor": 1
}
